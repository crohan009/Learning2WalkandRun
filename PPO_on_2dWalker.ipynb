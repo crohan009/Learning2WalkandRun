{
  "nbformat": 4,
  "nbformat_minor": 0,
  "metadata": {
    "colab": {
      "name": "PPO_on_2dWalker.ipynb",
      "version": "0.3.2",
      "provenance": [],
      "collapsed_sections": []
    },
    "kernelspec": {
      "name": "python3",
      "display_name": "Python 3"
    },
    "accelerator": "GPU"
  },
  "cells": [
    {
      "cell_type": "code",
      "metadata": {
        "id": "c8cexD_kKPao",
        "colab_type": "code",
        "colab": {
          "base_uri": "https://localhost:8080/",
          "height": 221
        },
        "outputId": "430db150-c670-4304-e374-2d67d7ffbbe6"
      },
      "source": [
        "!pip install roboschool"
      ],
      "execution_count": 1,
      "outputs": [
        {
          "output_type": "stream",
          "text": [
            "Requirement already satisfied: roboschool in /usr/local/lib/python3.6/dist-packages (1.0.46)\n",
            "Requirement already satisfied: gym in /usr/local/lib/python3.6/dist-packages (from roboschool) (0.10.11)\n",
            "Requirement already satisfied: six in /usr/local/lib/python3.6/dist-packages (from gym->roboschool) (1.12.0)\n",
            "Requirement already satisfied: numpy>=1.10.4 in /usr/local/lib/python3.6/dist-packages (from gym->roboschool) (1.16.3)\n",
            "Requirement already satisfied: scipy in /usr/local/lib/python3.6/dist-packages (from gym->roboschool) (1.2.1)\n",
            "Requirement already satisfied: requests>=2.0 in /usr/local/lib/python3.6/dist-packages (from gym->roboschool) (2.21.0)\n",
            "Requirement already satisfied: pyglet>=1.2.0 in /usr/local/lib/python3.6/dist-packages (from gym->roboschool) (1.3.2)\n",
            "Requirement already satisfied: certifi>=2017.4.17 in /usr/local/lib/python3.6/dist-packages (from requests>=2.0->gym->roboschool) (2019.3.9)\n",
            "Requirement already satisfied: idna<2.9,>=2.5 in /usr/local/lib/python3.6/dist-packages (from requests>=2.0->gym->roboschool) (2.8)\n",
            "Requirement already satisfied: chardet<3.1.0,>=3.0.2 in /usr/local/lib/python3.6/dist-packages (from requests>=2.0->gym->roboschool) (3.0.4)\n",
            "Requirement already satisfied: urllib3<1.25,>=1.21.1 in /usr/local/lib/python3.6/dist-packages (from requests>=2.0->gym->roboschool) (1.24.3)\n",
            "Requirement already satisfied: future in /usr/local/lib/python3.6/dist-packages (from pyglet>=1.2.0->gym->roboschool) (0.16.0)\n"
          ],
          "name": "stdout"
        }
      ]
    },
    {
      "cell_type": "code",
      "metadata": {
        "id": "omVkx6BYKGHS",
        "colab_type": "code",
        "colab": {}
      },
      "source": [
        "import math\n",
        "import random\n",
        "\n",
        "import numpy as np\n",
        "from multiprocessing import Process, Pipe\n",
        "import os\n",
        "\n",
        "import gym\n",
        "import roboschool\n",
        "\n",
        "import torch\n",
        "import torch.nn as nn\n",
        "import torch.optim as optim\n",
        "import torch.nn.functional as F\n",
        "from torch.distributions import Normal\n",
        "\n",
        "from IPython.display import clear_output\n",
        "import matplotlib.pyplot as plt\n",
        "%matplotlib inline"
      ],
      "execution_count": 0,
      "outputs": []
    },
    {
      "cell_type": "markdown",
      "metadata": {
        "id": "F0aKP1wLKgqN",
        "colab_type": "text"
      },
      "source": [
        "### Set up CUDA"
      ]
    },
    {
      "cell_type": "code",
      "metadata": {
        "id": "QZLn4nUdKT78",
        "colab_type": "code",
        "colab": {
          "base_uri": "https://localhost:8080/",
          "height": 34
        },
        "outputId": "c4846a9a-3a71-4781-d09b-874d16ff9df1"
      },
      "source": [
        "use_cuda = torch.cuda.is_available()\n",
        "device   = torch.device(\"cuda\" if use_cuda else \"cpu\")\n",
        "print(device)"
      ],
      "execution_count": 3,
      "outputs": [
        {
          "output_type": "stream",
          "text": [
            "cuda\n"
          ],
          "name": "stdout"
        }
      ]
    },
    {
      "cell_type": "markdown",
      "metadata": {
        "id": "vHfhCWLfKqmi",
        "colab_type": "text"
      },
      "source": [
        "### Mount Google Drive"
      ]
    },
    {
      "cell_type": "code",
      "metadata": {
        "id": "JB-Ib9-3KoBW",
        "colab_type": "code",
        "colab": {
          "base_uri": "https://localhost:8080/",
          "height": 34
        },
        "outputId": "66c9dba7-d182-4f4f-cb5d-918676f0507d"
      },
      "source": [
        "from google.colab import drive\n",
        "drive.mount('/content/gdrive')"
      ],
      "execution_count": 4,
      "outputs": [
        {
          "output_type": "stream",
          "text": [
            "Drive already mounted at /content/gdrive; to attempt to forcibly remount, call drive.mount(\"/content/gdrive\", force_remount=True).\n"
          ],
          "name": "stdout"
        }
      ]
    },
    {
      "cell_type": "markdown",
      "metadata": {
        "id": "SrfZt5iDLGBW",
        "colab_type": "text"
      },
      "source": [
        "### Creating a vector of environments for MultiProcessing\n",
        "\n",
        "\n",
        "Code obtained from OpenAI baselines :\n",
        "https://github.com/openai/baselines/tree/master/baselines/common/vec_env"
      ]
    },
    {
      "cell_type": "code",
      "metadata": {
        "id": "nmdkGTXSKusN",
        "colab_type": "code",
        "colab": {}
      },
      "source": [
        "def worker(remote, parent_remote, env_fn_wrapper):\n",
        "    parent_remote.close()\n",
        "    env = env_fn_wrapper.x()\n",
        "    while True:\n",
        "        cmd, data = remote.recv()\n",
        "        if cmd == 'step':\n",
        "            ob, reward, done, info = env.step(data)\n",
        "            if done:\n",
        "                ob = env.reset()\n",
        "            remote.send((ob, reward, done, info))\n",
        "        elif cmd == 'reset':\n",
        "            ob = env.reset()\n",
        "            remote.send(ob)\n",
        "        elif cmd == 'reset_task':\n",
        "            ob = env.reset_task()\n",
        "            remote.send(ob)\n",
        "        elif cmd == 'close':\n",
        "            remote.close()\n",
        "            break\n",
        "        elif cmd == 'get_spaces':\n",
        "            remote.send((env.observation_space, env.action_space))\n",
        "        else:\n",
        "            raise NotImplementedError\n",
        "\n",
        "class VecEnv(object):\n",
        "    \"\"\"\n",
        "    An abstract asynchronous, vectorized environment.\n",
        "    \"\"\"\n",
        "    def __init__(self, num_envs, observation_space, action_space):\n",
        "        self.num_envs = num_envs\n",
        "        self.observation_space = observation_space\n",
        "        self.action_space = action_space\n",
        "\n",
        "    def reset(self):\n",
        "        \"\"\"\n",
        "        Reset all the environments and return an array of\n",
        "        observations, or a tuple of observation arrays.\n",
        "        If step_async is still doing work, that work will\n",
        "        be cancelled and step_wait() should not be called\n",
        "        until step_async() is invoked again.\n",
        "        \"\"\"\n",
        "        pass\n",
        "\n",
        "    def step_async(self, actions):\n",
        "        \"\"\"\n",
        "        Tell all the environments to start taking a step\n",
        "        with the given actions.\n",
        "        Call step_wait() to get the results of the step.\n",
        "        You should not call this if a step_async run is\n",
        "        already pending.\n",
        "        \"\"\"\n",
        "        pass\n",
        "\n",
        "    def step_wait(self):\n",
        "        \"\"\"\n",
        "        Wait for the step taken with step_async().\n",
        "        Returns (obs, rews, dones, infos):\n",
        "         - obs: an array of observations, or a tuple of\n",
        "                arrays of observations.\n",
        "         - rews: an array of rewards\n",
        "         - dones: an array of \"episode done\" booleans\n",
        "         - infos: a sequence of info objects\n",
        "        \"\"\"\n",
        "        pass\n",
        "\n",
        "    def close(self):\n",
        "        \"\"\"\n",
        "        Clean up the environments' resources.\n",
        "        \"\"\"\n",
        "        pass\n",
        "\n",
        "    def step(self, actions):\n",
        "        self.step_async(actions)\n",
        "        return self.step_wait()\n",
        "\n",
        "    \n",
        "class CloudpickleWrapper(object):\n",
        "    \"\"\"\n",
        "    Uses cloudpickle to serialize contents (otherwise multiprocessing tries to use pickle)\n",
        "    \"\"\"\n",
        "    def __init__(self, x):\n",
        "        self.x = x\n",
        "    def __getstate__(self):\n",
        "        import cloudpickle\n",
        "        return cloudpickle.dumps(self.x)\n",
        "    def __setstate__(self, ob):\n",
        "        import pickle\n",
        "        self.x = pickle.loads(ob)\n",
        "\n",
        "        \n",
        "class SubprocVecEnv(VecEnv):\n",
        "    def __init__(self, env_fns, spaces=None):\n",
        "        \"\"\"\n",
        "        envs: list of gym environments to run in subprocesses\n",
        "        \"\"\"\n",
        "        self.waiting = False\n",
        "        self.closed = False\n",
        "        nenvs = len(env_fns)\n",
        "        self.nenvs = nenvs\n",
        "        self.remotes, self.work_remotes = zip(*[Pipe() for _ in range(nenvs)])\n",
        "        self.ps = [Process(target=worker, args=(work_remote, remote, CloudpickleWrapper(env_fn)))\n",
        "            for (work_remote, remote, env_fn) in zip(self.work_remotes, self.remotes, env_fns)]\n",
        "        for p in self.ps:\n",
        "            p.daemon = True # if the main process crashes, we should not cause things to hang\n",
        "            p.start()\n",
        "        for remote in self.work_remotes:\n",
        "            remote.close()\n",
        "\n",
        "        self.remotes[0].send(('get_spaces', None))\n",
        "        observation_space, action_space = self.remotes[0].recv()\n",
        "        VecEnv.__init__(self, len(env_fns), observation_space, action_space)\n",
        "\n",
        "    def step_async(self, actions):\n",
        "        for remote, action in zip(self.remotes, actions):\n",
        "            remote.send(('step', action))\n",
        "        self.waiting = True\n",
        "\n",
        "    def step_wait(self):\n",
        "        results = [remote.recv() for remote in self.remotes]\n",
        "        self.waiting = False\n",
        "        obs, rews, dones, infos = zip(*results)\n",
        "        return np.stack(obs), np.stack(rews), np.stack(dones), infos\n",
        "\n",
        "    def reset(self):\n",
        "        for remote in self.remotes:\n",
        "            remote.send(('reset', None))\n",
        "        return np.stack([remote.recv() for remote in self.remotes])\n",
        "\n",
        "    def reset_task(self):\n",
        "        for remote in self.remotes:\n",
        "            remote.send(('reset_task', None))\n",
        "        return np.stack([remote.recv() for remote in self.remotes])\n",
        "\n",
        "    def close(self):\n",
        "        if self.closed:\n",
        "            return\n",
        "        if self.waiting:\n",
        "            for remote in self.remotes:            \n",
        "                remote.recv()\n",
        "        for remote in self.remotes:\n",
        "            remote.send(('close', None))\n",
        "        for p in self.ps:\n",
        "            p.join()\n",
        "            self.closed = True\n",
        "            \n",
        "    def __len__(self):\n",
        "        return self.nenvs"
      ],
      "execution_count": 0,
      "outputs": []
    },
    {
      "cell_type": "markdown",
      "metadata": {
        "id": "cNHGJ2thMPS0",
        "colab_type": "text"
      },
      "source": [
        "### Creating some simulation Environments"
      ]
    },
    {
      "cell_type": "code",
      "metadata": {
        "id": "qzYe1a7tL__M",
        "colab_type": "code",
        "colab": {
          "base_uri": "https://localhost:8080/",
          "height": 119
        },
        "outputId": "f024cd3f-48fc-4896-8612-880b98dee024"
      },
      "source": [
        "num_envs = 16\n",
        "env_name = \"RoboschoolWalker2d-v1\"\n",
        "\n",
        "def make_env():\n",
        "    def _env_maker():\n",
        "        env = gym.make(env_name)\n",
        "        return env\n",
        "\n",
        "    return _env_maker\n",
        "\n",
        "envs = [make_env() for i in range(num_envs)]\n",
        "\n",
        "envs = SubprocVecEnv(envs)\n",
        "\n",
        "env = gym.make(env_name)\n",
        "\n",
        "num_inputs  = envs.observation_space.shape[0]\n",
        "num_outputs = envs.action_space.shape[0]\n",
        "\n",
        "print(\"Number of inputs = \", num_inputs)\n",
        "print(\"num_outputs = \", num_outputs)\n",
        "print(\"class_name: {} \\naction_space: {} \\nobservation_space: {} \\nreward_range {}\".format(env.class_name,\n",
        "                                                                                       env.action_space, \n",
        "                                                                                       env.observation_space, \n",
        "                                                                                       env.reward_range))"
      ],
      "execution_count": 6,
      "outputs": [
        {
          "output_type": "stream",
          "text": [
            "Number of inputs =  22\n",
            "num_outputs =  6\n",
            "class_name: <bound method Wrapper.class_name of <class 'gym.wrappers.time_limit.TimeLimit'>> \n",
            "action_space: Box(6,) \n",
            "observation_space: Box(22,) \n",
            "reward_range (-inf, inf)\n"
          ],
          "name": "stdout"
        }
      ]
    },
    {
      "cell_type": "markdown",
      "metadata": {
        "id": "wAzcRpLSNXiw",
        "colab_type": "text"
      },
      "source": [
        "### Actor Critic Network\n"
      ]
    },
    {
      "cell_type": "code",
      "metadata": {
        "id": "0XW-NkOtMyw-",
        "colab_type": "code",
        "colab": {}
      },
      "source": [
        "def init_weights(m):\n",
        "    if isinstance(m, nn.Linear):\n",
        "        nn.init.normal_(m.weight, mean=0., std=0.1)\n",
        "        nn.init.constant_(m.bias, 0.1)\n",
        "        \n",
        "\n",
        "class ActorCritic(nn.Module):\n",
        "    def __init__(self, num_inputs=22, num_outputs=6, hidden_size=(128,64), std=0.0):\n",
        "        super(ActorCritic, self).__init__()\n",
        "        \n",
        "        # critic -> value\n",
        "        self.critic = nn.Sequential(\n",
        "            nn.Linear(num_inputs, hidden_size[0], bias=True),       #  22 -> 128\n",
        "            nn.ReLU(),\n",
        "            nn.Linear(hidden_size[0], hidden_size[1], bias=True),   # 128 -> 64\n",
        "            nn.ReLU(),\n",
        "            nn.Linear(hidden_size[1], num_outputs, bias=True),      #  64 -> 6\n",
        "        )\n",
        "        \n",
        "        # actor -> policy\n",
        "        self.actor = nn.Sequential(\n",
        "            nn.Linear(num_inputs, hidden_size[0], bias=True),       #  22 -> 128\n",
        "            nn.ReLU(),\n",
        "            nn.Linear(hidden_size[0], hidden_size[1], bias=True),   # 128 -> 64\n",
        "            nn.ReLU(),\n",
        "            nn.Linear(hidden_size[1], num_outputs, bias=True),      #  64 -> 6\n",
        "        )\n",
        "        \n",
        "        self.log_std = nn.Parameter(torch.ones(1, num_outputs) * std)\n",
        "        \n",
        "        self.apply(init_weights)\n",
        "        \n",
        "    def forward(self, x):\n",
        "        value = self.critic(x)\n",
        "        mu    = self.actor(x)\n",
        "        std   = self.log_std.exp().expand_as(mu)\n",
        "        dist  = Normal(mu, std)\n",
        "        return dist, value"
      ],
      "execution_count": 0,
      "outputs": []
    },
    {
      "cell_type": "markdown",
      "metadata": {
        "id": "KJGkMs69OjXp",
        "colab_type": "text"
      },
      "source": [
        "#### Create an Actor-Critic model\n",
        "\n",
        "(If pretrained weights exist,  change ***pre_trained*** to ***True*** and provide the ***PATH*** and ***file*** name.)"
      ]
    },
    {
      "cell_type": "code",
      "metadata": {
        "id": "sJEIyuLWOgsu",
        "colab_type": "code",
        "colab": {
          "base_uri": "https://localhost:8080/",
          "height": 289
        },
        "outputId": "ecffa6b8-54e6-4a01-9443-069894175d06"
      },
      "source": [
        "num_inputs  = envs.observation_space.shape[0]\n",
        "num_outputs = envs.action_space.shape[0]\n",
        "pre_trained = True\n",
        "PATH = \"/content/gdrive/My Drive/ML-DL/RL/\"\n",
        "file = \"pretrained_model_weights.pt\"\n",
        "\n",
        "\n",
        "#Actor-Critic Network Hyper-params\n",
        "hidden_size      = (128,64)\n",
        "lr               = 3e-6\n",
        "\n",
        "model = ActorCritic(num_inputs, num_outputs, hidden_size).to(device)\n",
        "\n",
        "if pre_trained:\n",
        "  model.load_state_dict(torch.load(PATH + file))\n",
        "  model = model.to(device)\n",
        "  \n",
        "optimizer = optim.Adam(model.parameters(), lr=lr)\n",
        "\n",
        "print(model)\n",
        "# print(model.state_dict().keys())"
      ],
      "execution_count": 8,
      "outputs": [
        {
          "output_type": "stream",
          "text": [
            "ActorCritic(\n",
            "  (critic): Sequential(\n",
            "    (0): Linear(in_features=22, out_features=128, bias=True)\n",
            "    (1): ReLU()\n",
            "    (2): Linear(in_features=128, out_features=64, bias=True)\n",
            "    (3): ReLU()\n",
            "    (4): Linear(in_features=64, out_features=6, bias=True)\n",
            "  )\n",
            "  (actor): Sequential(\n",
            "    (0): Linear(in_features=22, out_features=128, bias=True)\n",
            "    (1): ReLU()\n",
            "    (2): Linear(in_features=128, out_features=64, bias=True)\n",
            "    (3): ReLU()\n",
            "    (4): Linear(in_features=64, out_features=6, bias=True)\n",
            "  )\n",
            ")\n"
          ],
          "name": "stdout"
        }
      ]
    },
    {
      "cell_type": "markdown",
      "metadata": {
        "id": "qBo1L-oUOGAe",
        "colab_type": "text"
      },
      "source": [
        "### Proximal Policy Optimization algorithm"
      ]
    },
    {
      "cell_type": "code",
      "metadata": {
        "id": "6qFJNFIWN_ij",
        "colab_type": "code",
        "colab": {}
      },
      "source": [
        "class PPO:\n",
        "  \n",
        "  def __init__(self, \n",
        "               device, \n",
        "               model, \n",
        "               optimizer, \n",
        "               envs, \n",
        "               num_steps, \n",
        "               mini_batch_size, \n",
        "               ppo_epochs, \n",
        "               threshold_reward=330, \n",
        "               save_frequency=1000, \n",
        "               savefig=False, \n",
        "               save_dir=\"/content/gdrive/My Drive/\", \n",
        "               filename=\"PPO_A2C_saved_model_weights.pt\" ):\n",
        "    \n",
        "      self.device           = device\n",
        "      self.envs             = envs\n",
        "      self.model            = model\n",
        "      self.optimizer        = optimizer\n",
        "      self.num_steps        = num_steps\n",
        "      self.mini_batch_size  = mini_batch_size\n",
        "      self.ppo_epochs       = ppo_epochs\n",
        "      self.threshold_reward = threshold_reward\n",
        "      self.save_frequency = 10000\n",
        "      self.save_dir = save_dir\n",
        "      self.filename = filename\n",
        "      self.savefig = False\n",
        "    \n",
        "  \n",
        "  def ppo_iteration(self, states, actions, log_probs, returns, advantage):\n",
        "      batch_size = states.size(0)\n",
        "      for _ in range(batch_size // self.mini_batch_size):\n",
        "          rand_ids = np.random.randint(0, batch_size, self.mini_batch_size)\n",
        "          yield states[rand_ids, :], actions[rand_ids, :], log_probs[rand_ids, :], returns[rand_ids, :], advantage[rand_ids, :]\n",
        "          \n",
        "          \n",
        "  def ppo_update(self, states, actions, log_probs, returns, advantages, clip_param=0.2):\n",
        "      for _ in range(self.ppo_epochs):\n",
        "          for state, action, old_log_probs, return_, advantage in self.ppo_iteration(states, actions, log_probs, returns, advantages):\n",
        "              dist, value = self.model(state)\n",
        "              entropy = dist.entropy().mean()\n",
        "              new_log_probs = dist.log_prob(action)\n",
        "\n",
        "              ratio = (new_log_probs - old_log_probs).exp()\n",
        "              surr1 = ratio * advantage\n",
        "              surr2 = torch.clamp(ratio, 1.0 - clip_param, 1.0 + clip_param) * advantage\n",
        "\n",
        "              actor_loss  = - torch.min(surr1, surr2).mean()\n",
        "              critic_loss = (return_ - value).pow(2).mean()\n",
        "\n",
        "              loss = 0.5 * critic_loss + actor_loss - 0.001 * entropy\n",
        "\n",
        "              self.optimizer.zero_grad()\n",
        "              loss.backward()\n",
        "              self.optimizer.step()  \n",
        "              \n",
        "  def compute_gae(self, next_value, rewards, masks, values, gamma=0.99, tau=0.95):\n",
        "      values = values + [next_value]\n",
        "      gae = 0\n",
        "      returns = []\n",
        "      for step in reversed(range(len(rewards))):\n",
        "          delta = rewards[step] + gamma * values[step + 1] * masks[step] - values[step]\n",
        "          gae = delta + gamma * tau * masks[step] * gae\n",
        "          returns.insert(0, gae + values[step])\n",
        "      return returns\n",
        "    \n",
        "  def plot(self, frame_idx, rewards):\n",
        "      clear_output(True)\n",
        "      plt.figure(figsize=(70,9))\n",
        "      plt.subplot(131)\n",
        "      plt.title('frame %s. reward: %s' % (frame_idx, rewards[-1]))\n",
        "      plt.plot(rewards)\n",
        "      plt.ylabel(\"Reward\")\n",
        "      plt.xlabel(\"Iteration\")\n",
        "      plt.grid()\n",
        "      plt.show()\n",
        "      if self.savefig and frame_idx % self.save_frequency == 0 : \n",
        "        plt.savefig(self.save_dir + \"PPO_A2C_rewards.png\")\n",
        "        \n",
        "\n",
        "  def test_env(self, vis=False):\n",
        "      state = env.reset()\n",
        "      if vis: env.render()\n",
        "      done = False\n",
        "      total_reward = 0\n",
        "      while not done:\n",
        "          state = torch.FloatTensor(state).unsqueeze(0).to(self.device)\n",
        "          dist, _ = model(state)\n",
        "          next_state, reward, done, _ = env.step(dist.sample().cpu().numpy()[0])\n",
        "          state = next_state\n",
        "          if vis: env.render()\n",
        "          total_reward += reward\n",
        "      return total_reward\n",
        "\n",
        "  def iterate(self, test_rewards=[], max_frames=100000, frame_idx=0):\n",
        "\n",
        "      #test_rewards = []\n",
        "\n",
        "      state = envs.reset()\n",
        "      early_stop = False\n",
        "\n",
        "      while frame_idx < max_frames and not early_stop:\n",
        "\n",
        "          log_probs = []\n",
        "          values    = []\n",
        "          states    = []\n",
        "          actions   = []\n",
        "          rewards   = []\n",
        "          masks     = []\n",
        "          entropy = 0\n",
        "\n",
        "          for _ in range(num_steps):\n",
        "              state = torch.FloatTensor(state).to(self.device)\n",
        "              dist, value = self.model(state)\n",
        "\n",
        "              action = dist.sample()\n",
        "              next_state, reward, done, _ = self.envs.step(action.cpu().numpy())\n",
        "\n",
        "              log_prob = dist.log_prob(action)\n",
        "              entropy += dist.entropy().mean()\n",
        "\n",
        "              log_probs.append(log_prob)\n",
        "              values.append(value)\n",
        "              rewards.append(torch.FloatTensor(reward).unsqueeze(1).to(self.device))\n",
        "              masks.append(torch.FloatTensor(1 - done).unsqueeze(1).to(self.device))\n",
        "\n",
        "              states.append(state)\n",
        "              actions.append(action)\n",
        "\n",
        "              state = next_state\n",
        "              frame_idx += 1\n",
        "\n",
        "              if frame_idx % 1000 == 0:\n",
        "                  test_reward = np.mean([self.test_env(False) for _ in range(10)])\n",
        "                  test_rewards.append(test_reward)\n",
        "                  self.plot(frame_idx, test_rewards)\n",
        "                  if test_reward > self.threshold_reward: early_stop = True\n",
        "\n",
        "\n",
        "          next_state = torch.FloatTensor(next_state).to(self.device)\n",
        "          _, next_value = self.model(next_state)\n",
        "          returns = self.compute_gae(next_value, rewards, masks, values)\n",
        "\n",
        "          returns   = torch.cat(returns).detach()\n",
        "          log_probs = torch.cat(log_probs).detach()\n",
        "          values    = torch.cat(values).detach()\n",
        "          states    = torch.cat(states)\n",
        "          actions   = torch.cat(actions)\n",
        "          advantage = returns - values\n",
        "\n",
        "          self.ppo_update(states, actions, log_probs, returns, advantage)\n",
        "          \n",
        "          if frame_idx % self.save_frequency == 0:\n",
        "            torch.save(self.model.cpu().state_dict(), self.save_dir + self.filename)\n",
        "            \n",
        "          self.model = self.model.to(self.device)\n",
        "\n",
        "      return test_rewards"
      ],
      "execution_count": 0,
      "outputs": []
    },
    {
      "cell_type": "code",
      "metadata": {
        "id": "5LpyzFNJQ9oj",
        "colab_type": "code",
        "colab": {
          "base_uri": "https://localhost:8080/",
          "height": 891
        },
        "outputId": "848da458-e085-4e22-ea33-cfe572ac9091"
      },
      "source": [
        "# PPO Hyper-parameters\n",
        "num_steps        = 20\n",
        "mini_batch_size  = 5\n",
        "ppo_epochs       = 4\n",
        "threshold_reward = 1000\n",
        "save_frequency = 10000\n",
        "\n",
        "ppo = PPO(device, model, optimizer, envs, num_steps, mini_batch_size, ppo_epochs, threshold_reward, save_frequency, savefig=True, save_dir=PATH)\n",
        "\n",
        "test_rewards = ppo.iterate(test_rewards, max_frames=500000, frame_idx=325001)"
      ],
      "execution_count": 15,
      "outputs": [
        {
          "output_type": "display_data",
          "data": {
            "image/png": "[encoded data removed]",
            "text/plain": [
              "<Figure size 5040x648 with 1 Axes>"
            ]
          },
          "metadata": {
            "tags": []
          }
        },
        {
          "output_type": "error",
          "ename": "KeyboardInterrupt",
          "evalue": "ignored",
          "traceback": [
            "\u001b[0;31m---------------------------------------------------------------------------\u001b[0m",
            "\u001b[0;31mKeyboardInterrupt\u001b[0m                         Traceback (most recent call last)",
            "\u001b[0;32m<ipython-input-15-b1fac0194968>\u001b[0m in \u001b[0;36m<module>\u001b[0;34m()\u001b[0m\n\u001b[1;32m      7\u001b[0m \u001b[0mppo\u001b[0m \u001b[0;34m=\u001b[0m \u001b[0mPPO\u001b[0m\u001b[0;34m(\u001b[0m\u001b[0mdevice\u001b[0m\u001b[0;34m,\u001b[0m \u001b[0mmodel\u001b[0m\u001b[0;34m,\u001b[0m \u001b[0moptimizer\u001b[0m\u001b[0;34m,\u001b[0m \u001b[0menvs\u001b[0m\u001b[0;34m,\u001b[0m \u001b[0mnum_steps\u001b[0m\u001b[0;34m,\u001b[0m \u001b[0mmini_batch_size\u001b[0m\u001b[0;34m,\u001b[0m \u001b[0mppo_epochs\u001b[0m\u001b[0;34m,\u001b[0m \u001b[0mthreshold_reward\u001b[0m\u001b[0;34m,\u001b[0m \u001b[0msave_frequency\u001b[0m\u001b[0;34m,\u001b[0m \u001b[0msavefig\u001b[0m\u001b[0;34m=\u001b[0m\u001b[0;32mTrue\u001b[0m\u001b[0;34m,\u001b[0m \u001b[0msave_dir\u001b[0m\u001b[0;34m=\u001b[0m\u001b[0mPATH\u001b[0m\u001b[0;34m)\u001b[0m\u001b[0;34m\u001b[0m\u001b[0;34m\u001b[0m\u001b[0m\n\u001b[1;32m      8\u001b[0m \u001b[0;34m\u001b[0m\u001b[0m\n\u001b[0;32m----> 9\u001b[0;31m \u001b[0mtest_rewards\u001b[0m \u001b[0;34m=\u001b[0m \u001b[0mppo\u001b[0m\u001b[0;34m.\u001b[0m\u001b[0miterate\u001b[0m\u001b[0;34m(\u001b[0m\u001b[0mtest_rewards\u001b[0m\u001b[0;34m,\u001b[0m \u001b[0mmax_frames\u001b[0m\u001b[0;34m=\u001b[0m\u001b[0;36m500000\u001b[0m\u001b[0;34m,\u001b[0m \u001b[0mframe_idx\u001b[0m\u001b[0;34m=\u001b[0m\u001b[0;36m325001\u001b[0m\u001b[0;34m)\u001b[0m\u001b[0;34m\u001b[0m\u001b[0;34m\u001b[0m\u001b[0m\n\u001b[0m",
            "\u001b[0;32m<ipython-input-13-f13f432a9247>\u001b[0m in \u001b[0;36miterate\u001b[0;34m(self, test_rewards, max_frames, frame_idx)\u001b[0m\n\u001b[1;32m    150\u001b[0m           \u001b[0madvantage\u001b[0m \u001b[0;34m=\u001b[0m \u001b[0mreturns\u001b[0m \u001b[0;34m-\u001b[0m \u001b[0mvalues\u001b[0m\u001b[0;34m\u001b[0m\u001b[0;34m\u001b[0m\u001b[0m\n\u001b[1;32m    151\u001b[0m \u001b[0;34m\u001b[0m\u001b[0m\n\u001b[0;32m--> 152\u001b[0;31m           \u001b[0mself\u001b[0m\u001b[0;34m.\u001b[0m\u001b[0mppo_update\u001b[0m\u001b[0;34m(\u001b[0m\u001b[0mstates\u001b[0m\u001b[0;34m,\u001b[0m \u001b[0mactions\u001b[0m\u001b[0;34m,\u001b[0m \u001b[0mlog_probs\u001b[0m\u001b[0;34m,\u001b[0m \u001b[0mreturns\u001b[0m\u001b[0;34m,\u001b[0m \u001b[0madvantage\u001b[0m\u001b[0;34m)\u001b[0m\u001b[0;34m\u001b[0m\u001b[0;34m\u001b[0m\u001b[0m\n\u001b[0m\u001b[1;32m    153\u001b[0m \u001b[0;34m\u001b[0m\u001b[0m\n\u001b[1;32m    154\u001b[0m           \u001b[0;32mif\u001b[0m \u001b[0mframe_idx\u001b[0m \u001b[0;34m%\u001b[0m \u001b[0mself\u001b[0m\u001b[0;34m.\u001b[0m\u001b[0msave_frequency\u001b[0m \u001b[0;34m==\u001b[0m \u001b[0;36m0\u001b[0m\u001b[0;34m:\u001b[0m\u001b[0;34m\u001b[0m\u001b[0;34m\u001b[0m\u001b[0m\n",
            "\u001b[0;32m<ipython-input-13-f13f432a9247>\u001b[0m in \u001b[0;36mppo_update\u001b[0;34m(self, states, actions, log_probs, returns, advantages, clip_param)\u001b[0m\n\u001b[1;32m     53\u001b[0m \u001b[0;34m\u001b[0m\u001b[0m\n\u001b[1;32m     54\u001b[0m               \u001b[0mself\u001b[0m\u001b[0;34m.\u001b[0m\u001b[0moptimizer\u001b[0m\u001b[0;34m.\u001b[0m\u001b[0mzero_grad\u001b[0m\u001b[0;34m(\u001b[0m\u001b[0;34m)\u001b[0m\u001b[0;34m\u001b[0m\u001b[0;34m\u001b[0m\u001b[0m\n\u001b[0;32m---> 55\u001b[0;31m               \u001b[0mloss\u001b[0m\u001b[0;34m.\u001b[0m\u001b[0mbackward\u001b[0m\u001b[0;34m(\u001b[0m\u001b[0;34m)\u001b[0m\u001b[0;34m\u001b[0m\u001b[0;34m\u001b[0m\u001b[0m\n\u001b[0m\u001b[1;32m     56\u001b[0m               \u001b[0mself\u001b[0m\u001b[0;34m.\u001b[0m\u001b[0moptimizer\u001b[0m\u001b[0;34m.\u001b[0m\u001b[0mstep\u001b[0m\u001b[0;34m(\u001b[0m\u001b[0;34m)\u001b[0m\u001b[0;34m\u001b[0m\u001b[0;34m\u001b[0m\u001b[0m\n\u001b[1;32m     57\u001b[0m \u001b[0;34m\u001b[0m\u001b[0m\n",
            "\u001b[0;32m/usr/local/lib/python3.6/dist-packages/torch/tensor.py\u001b[0m in \u001b[0;36mbackward\u001b[0;34m(self, gradient, retain_graph, create_graph)\u001b[0m\n\u001b[1;32m    105\u001b[0m                 \u001b[0mproducts\u001b[0m\u001b[0;34m.\u001b[0m \u001b[0mDefaults\u001b[0m \u001b[0mto\u001b[0m\u001b[0;31m \u001b[0m\u001b[0;31m`\u001b[0m\u001b[0;31m`\u001b[0m\u001b[0;32mFalse\u001b[0m\u001b[0;31m`\u001b[0m\u001b[0;31m`\u001b[0m\u001b[0;34m.\u001b[0m\u001b[0;34m\u001b[0m\u001b[0;34m\u001b[0m\u001b[0m\n\u001b[1;32m    106\u001b[0m         \"\"\"\n\u001b[0;32m--> 107\u001b[0;31m         \u001b[0mtorch\u001b[0m\u001b[0;34m.\u001b[0m\u001b[0mautograd\u001b[0m\u001b[0;34m.\u001b[0m\u001b[0mbackward\u001b[0m\u001b[0;34m(\u001b[0m\u001b[0mself\u001b[0m\u001b[0;34m,\u001b[0m \u001b[0mgradient\u001b[0m\u001b[0;34m,\u001b[0m \u001b[0mretain_graph\u001b[0m\u001b[0;34m,\u001b[0m \u001b[0mcreate_graph\u001b[0m\u001b[0;34m)\u001b[0m\u001b[0;34m\u001b[0m\u001b[0;34m\u001b[0m\u001b[0m\n\u001b[0m\u001b[1;32m    108\u001b[0m \u001b[0;34m\u001b[0m\u001b[0m\n\u001b[1;32m    109\u001b[0m     \u001b[0;32mdef\u001b[0m \u001b[0mregister_hook\u001b[0m\u001b[0;34m(\u001b[0m\u001b[0mself\u001b[0m\u001b[0;34m,\u001b[0m \u001b[0mhook\u001b[0m\u001b[0;34m)\u001b[0m\u001b[0;34m:\u001b[0m\u001b[0;34m\u001b[0m\u001b[0;34m\u001b[0m\u001b[0m\n",
            "\u001b[0;32m/usr/local/lib/python3.6/dist-packages/torch/autograd/__init__.py\u001b[0m in \u001b[0;36mbackward\u001b[0;34m(tensors, grad_tensors, retain_graph, create_graph, grad_variables)\u001b[0m\n\u001b[1;32m     91\u001b[0m     Variable._execution_engine.run_backward(\n\u001b[1;32m     92\u001b[0m         \u001b[0mtensors\u001b[0m\u001b[0;34m,\u001b[0m \u001b[0mgrad_tensors\u001b[0m\u001b[0;34m,\u001b[0m \u001b[0mretain_graph\u001b[0m\u001b[0;34m,\u001b[0m \u001b[0mcreate_graph\u001b[0m\u001b[0;34m,\u001b[0m\u001b[0;34m\u001b[0m\u001b[0;34m\u001b[0m\u001b[0m\n\u001b[0;32m---> 93\u001b[0;31m         allow_unreachable=True)  # allow_unreachable flag\n\u001b[0m\u001b[1;32m     94\u001b[0m \u001b[0;34m\u001b[0m\u001b[0m\n\u001b[1;32m     95\u001b[0m \u001b[0;34m\u001b[0m\u001b[0m\n",
            "\u001b[0;31mKeyboardInterrupt\u001b[0m: "
          ]
        }
      ]
    },
    {
      "cell_type": "code",
      "metadata": {
        "id": "LH2yBKXmS2US",
        "colab_type": "code",
        "colab": {}
      },
      "source": [
        ""
      ],
      "execution_count": 0,
      "outputs": []
    }
  ]
}